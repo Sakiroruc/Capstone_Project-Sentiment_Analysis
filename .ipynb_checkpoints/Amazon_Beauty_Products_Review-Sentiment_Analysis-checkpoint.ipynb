{
 "cells": [
  {
   "cell_type": "markdown",
   "metadata": {},
   "source": [
    "# Amazon Beauty Products Review-Sentiment Analysis"
   ]
  },
  {
   "cell_type": "markdown",
   "metadata": {},
   "source": [
    "## Import Necessary Libraries"
   ]
  },
  {
   "cell_type": "code",
   "execution_count": 1,
   "metadata": {},
   "outputs": [],
   "source": [
    "# Dataframe\n",
    "import pandas as pd\n",
    "\n",
    "# Array\n",
    "import numpy as np\n",
    "\n",
    "# Decompress the file\n",
    "import gzip\n",
    "\n",
    "# Visualizations\n",
    "import matplotlib.pyplot as plt\n",
    "from matplotlib.colors import ListedColormap\n",
    "import seaborn as sns\n",
    "import matplotlib.colors as colors\n",
    "%matplotlib inline\n",
    "\n",
    "# Datetime\n",
    "from datetime import datetime\n",
    "\n",
    "## Warnings\n",
    "import warnings\n",
    "from scipy import stats\n",
    "warnings.filterwarnings('ignore')"
   ]
  },
  {
   "cell_type": "markdown",
   "metadata": {},
   "source": [
    "## Decompress the Amazon Review Dataset "
   ]
  },
  {
   "cell_type": "markdown",
   "metadata": {},
   "source": [
    "The dataset is obtained from http://snap.stanford.edu/data/amazon/productGraph/categoryFiles/reviews_Beauty_10.json.gz link and uploaded into Jupyter notebook via the following code. "
   ]
  },
  {
   "cell_type": "code",
   "execution_count": 2,
   "metadata": {},
   "outputs": [],
   "source": [
    "def parse(path):\n",
    "    g = gzip.open(path, 'rb')\n",
    "    for l in g:\n",
    "        yield eval(l)\n",
    "\n",
    "def getDF(path):\n",
    "    i = 0\n",
    "    df = {}\n",
    "    for d in parse(path):\n",
    "        df[i] = d\n",
    "        i += 1\n",
    "    return pd.DataFrame.from_dict(df, orient='index')\n",
    "\n",
    "df = getDF('C:/users/eturk/Data_Science/Capstone_Project-Sentiment_Analysis/Dataset/reviews_Beauty_10.json.gz')"
   ]
  },
  {
   "cell_type": "markdown",
   "metadata": {},
   "source": [
    "## Inspecting the Dataset"
   ]
  },
  {
   "cell_type": "code",
   "execution_count": 3,
   "metadata": {},
   "outputs": [
    {
     "data": {
      "text/plain": [
       "(28798, 9)"
      ]
     },
     "execution_count": 3,
     "metadata": {},
     "output_type": "execute_result"
    }
   ],
   "source": [
    "# Shape of the dataset\n",
    "df.shape"
   ]
  },
  {
   "cell_type": "code",
   "execution_count": 4,
   "metadata": {},
   "outputs": [
    {
     "data": {
      "text/html": [
       "<div>\n",
       "<style scoped>\n",
       "    .dataframe tbody tr th:only-of-type {\n",
       "        vertical-align: middle;\n",
       "    }\n",
       "\n",
       "    .dataframe tbody tr th {\n",
       "        vertical-align: top;\n",
       "    }\n",
       "\n",
       "    .dataframe thead th {\n",
       "        text-align: right;\n",
       "    }\n",
       "</style>\n",
       "<table border=\"1\" class=\"dataframe\">\n",
       "  <thead>\n",
       "    <tr style=\"text-align: right;\">\n",
       "      <th></th>\n",
       "      <th>reviewerID</th>\n",
       "      <th>asin</th>\n",
       "      <th>reviewerName</th>\n",
       "      <th>helpful</th>\n",
       "      <th>reviewText</th>\n",
       "      <th>overall</th>\n",
       "      <th>summary</th>\n",
       "      <th>unixReviewTime</th>\n",
       "      <th>reviewTime</th>\n",
       "    </tr>\n",
       "  </thead>\n",
       "  <tbody>\n",
       "    <tr>\n",
       "      <th>0</th>\n",
       "      <td>A6VPK7X53QNAQ</td>\n",
       "      <td>B0000CC64W</td>\n",
       "      <td>AmazonDiva \"Keep Calm and Carry On.\"</td>\n",
       "      <td>[5, 5]</td>\n",
       "      <td>I am a devotee to this serum, it does wonders ...</td>\n",
       "      <td>5.0</td>\n",
       "      <td>If I had to choose only one product to take ca...</td>\n",
       "      <td>1245283200</td>\n",
       "      <td>06 18, 2009</td>\n",
       "    </tr>\n",
       "    <tr>\n",
       "      <th>1</th>\n",
       "      <td>A3CHMHGSJSQ02J</td>\n",
       "      <td>B0000CC64W</td>\n",
       "      <td>Anon. A. Non</td>\n",
       "      <td>[2, 2]</td>\n",
       "      <td>As a woman nearing 50, I need all the help I c...</td>\n",
       "      <td>5.0</td>\n",
       "      <td>Makes my skin lovely and smooth</td>\n",
       "      <td>1358467200</td>\n",
       "      <td>01 18, 2013</td>\n",
       "    </tr>\n",
       "    <tr>\n",
       "      <th>2</th>\n",
       "      <td>A1V1EP514B5H7Y</td>\n",
       "      <td>B0000CC64W</td>\n",
       "      <td>asiana</td>\n",
       "      <td>[0, 0]</td>\n",
       "      <td>I've used this regenerating serum for more tha...</td>\n",
       "      <td>5.0</td>\n",
       "      <td>Works well at a reasonable price</td>\n",
       "      <td>1322524800</td>\n",
       "      <td>11 29, 2011</td>\n",
       "    </tr>\n",
       "    <tr>\n",
       "      <th>3</th>\n",
       "      <td>A1X2LENOF84LCQ</td>\n",
       "      <td>B0000CC64W</td>\n",
       "      <td>D \"D\"</td>\n",
       "      <td>[62, 75]</td>\n",
       "      <td>I have tried so many products to just be total...</td>\n",
       "      <td>4.0</td>\n",
       "      <td>This does work ladies</td>\n",
       "      <td>1113350400</td>\n",
       "      <td>04 13, 2005</td>\n",
       "    </tr>\n",
       "    <tr>\n",
       "      <th>4</th>\n",
       "      <td>A2PATWWZAXHQYA</td>\n",
       "      <td>B0000CC64W</td>\n",
       "      <td>Farnoosh Brock</td>\n",
       "      <td>[1, 1]</td>\n",
       "      <td>I love Oil of Olay. My primary moisturizer is ...</td>\n",
       "      <td>1.0</td>\n",
       "      <td>Did not like the feel/texture of this serum</td>\n",
       "      <td>1387584000</td>\n",
       "      <td>12 21, 2013</td>\n",
       "    </tr>\n",
       "  </tbody>\n",
       "</table>\n",
       "</div>"
      ],
      "text/plain": [
       "       reviewerID        asin                          reviewerName   helpful  \\\n",
       "0   A6VPK7X53QNAQ  B0000CC64W  AmazonDiva \"Keep Calm and Carry On.\"    [5, 5]   \n",
       "1  A3CHMHGSJSQ02J  B0000CC64W                          Anon. A. Non    [2, 2]   \n",
       "2  A1V1EP514B5H7Y  B0000CC64W                                asiana    [0, 0]   \n",
       "3  A1X2LENOF84LCQ  B0000CC64W                                 D \"D\"  [62, 75]   \n",
       "4  A2PATWWZAXHQYA  B0000CC64W                        Farnoosh Brock    [1, 1]   \n",
       "\n",
       "                                          reviewText  overall  \\\n",
       "0  I am a devotee to this serum, it does wonders ...      5.0   \n",
       "1  As a woman nearing 50, I need all the help I c...      5.0   \n",
       "2  I've used this regenerating serum for more tha...      5.0   \n",
       "3  I have tried so many products to just be total...      4.0   \n",
       "4  I love Oil of Olay. My primary moisturizer is ...      1.0   \n",
       "\n",
       "                                             summary  unixReviewTime  \\\n",
       "0  If I had to choose only one product to take ca...      1245283200   \n",
       "1                    Makes my skin lovely and smooth      1358467200   \n",
       "2                   Works well at a reasonable price      1322524800   \n",
       "3                              This does work ladies      1113350400   \n",
       "4        Did not like the feel/texture of this serum      1387584000   \n",
       "\n",
       "    reviewTime  \n",
       "0  06 18, 2009  \n",
       "1  01 18, 2013  \n",
       "2  11 29, 2011  \n",
       "3  04 13, 2005  \n",
       "4  12 21, 2013  "
      ]
     },
     "execution_count": 4,
     "metadata": {},
     "output_type": "execute_result"
    }
   ],
   "source": [
    "# Read the file\n",
    "df.head()"
   ]
  },
  {
   "cell_type": "code",
   "execution_count": 5,
   "metadata": {},
   "outputs": [
    {
     "data": {
      "text/html": [
       "<div>\n",
       "<style scoped>\n",
       "    .dataframe tbody tr th:only-of-type {\n",
       "        vertical-align: middle;\n",
       "    }\n",
       "\n",
       "    .dataframe tbody tr th {\n",
       "        vertical-align: top;\n",
       "    }\n",
       "\n",
       "    .dataframe thead th {\n",
       "        text-align: right;\n",
       "    }\n",
       "</style>\n",
       "<table border=\"1\" class=\"dataframe\">\n",
       "  <thead>\n",
       "    <tr style=\"text-align: right;\">\n",
       "      <th></th>\n",
       "      <th>26639</th>\n",
       "      <th>22630</th>\n",
       "      <th>7900</th>\n",
       "      <th>14495</th>\n",
       "      <th>27149</th>\n",
       "      <th>20833</th>\n",
       "      <th>6774</th>\n",
       "      <th>13269</th>\n",
       "      <th>13894</th>\n",
       "      <th>15261</th>\n",
       "    </tr>\n",
       "  </thead>\n",
       "  <tbody>\n",
       "    <tr>\n",
       "      <th>reviewerID</th>\n",
       "      <td>A537XC69FAD3J</td>\n",
       "      <td>A19XMHRB3G4DIR</td>\n",
       "      <td>A1W6UPVTSV9WOO</td>\n",
       "      <td>A1ITRGMT80D5TK</td>\n",
       "      <td>A1DGB6HY5C7LXU</td>\n",
       "      <td>A1FWFCJU2G7TRA</td>\n",
       "      <td>AIIR8E34EDKCQ</td>\n",
       "      <td>A1EVV74UQYVKRY</td>\n",
       "      <td>A215WH6RUDUCMP</td>\n",
       "      <td>ALNFHVS3SC4FV</td>\n",
       "    </tr>\n",
       "    <tr>\n",
       "      <th>asin</th>\n",
       "      <td>B00IIB82FS</td>\n",
       "      <td>B00GNA9K3E</td>\n",
       "      <td>B0061KQF2K</td>\n",
       "      <td>B00A0IWTEW</td>\n",
       "      <td>B00IU079YM</td>\n",
       "      <td>B00EYZY68Y</td>\n",
       "      <td>B005QZQ9JU</td>\n",
       "      <td>B009RNUH7M</td>\n",
       "      <td>B00A0IWRU8</td>\n",
       "      <td>B00AE078YM</td>\n",
       "    </tr>\n",
       "    <tr>\n",
       "      <th>reviewerName</th>\n",
       "      <td>L Green</td>\n",
       "      <td>javajunki</td>\n",
       "      <td>Alli</td>\n",
       "      <td>ThisThatNEverything \"thisthatneverything\"</td>\n",
       "      <td>Brianna Greene</td>\n",
       "      <td>KDMask</td>\n",
       "      <td>- Kasia S.</td>\n",
       "      <td>K. Groh</td>\n",
       "      <td>Jamie Wilson \"Shilom\"</td>\n",
       "      <td>Darena Shopz \"darenashopzatoutlookdotcom\"</td>\n",
       "    </tr>\n",
       "    <tr>\n",
       "      <th>helpful</th>\n",
       "      <td>[0, 0]</td>\n",
       "      <td>[0, 0]</td>\n",
       "      <td>[0, 0]</td>\n",
       "      <td>[0, 0]</td>\n",
       "      <td>[0, 0]</td>\n",
       "      <td>[0, 0]</td>\n",
       "      <td>[0, 0]</td>\n",
       "      <td>[0, 0]</td>\n",
       "      <td>[0, 0]</td>\n",
       "      <td>[0, 0]</td>\n",
       "    </tr>\n",
       "    <tr>\n",
       "      <th>reviewText</th>\n",
       "      <td>Product has really made a difference in the da...</td>\n",
       "      <td>Finding a decent brush that is affordable enou...</td>\n",
       "      <td>Blush is smooth and very pigmented! I'm happy ...</td>\n",
       "      <td>We usually keep my 9-year-old sons hair buzzed...</td>\n",
       "      <td>I've started to use this serum and my skin is ...</td>\n",
       "      <td>I have fine, straight color treated hair. My u...</td>\n",
       "      <td>I have been using this since December and I re...</td>\n",
       "      <td>When I first went to use this moisturizer on m...</td>\n",
       "      <td>I definitely prefer my normal brands, but this...</td>\n",
       "      <td>Clear Scalp and Hair Beauty Therapy is a 7 day...</td>\n",
       "    </tr>\n",
       "    <tr>\n",
       "      <th>overall</th>\n",
       "      <td>5</td>\n",
       "      <td>4</td>\n",
       "      <td>5</td>\n",
       "      <td>4</td>\n",
       "      <td>5</td>\n",
       "      <td>3</td>\n",
       "      <td>4</td>\n",
       "      <td>4</td>\n",
       "      <td>4</td>\n",
       "      <td>3</td>\n",
       "    </tr>\n",
       "    <tr>\n",
       "      <th>summary</th>\n",
       "      <td>... around my eyes - eyes are much brighter an...</td>\n",
       "      <td>Nice enough and affordable</td>\n",
       "      <td>Really love this!</td>\n",
       "      <td>Smells good, Works well &amp; Easy to use...</td>\n",
       "      <td>An Excellent Hyaluronic Acid Serum with Lilac ...</td>\n",
       "      <td>Just Average</td>\n",
       "      <td>Great dispenser but product is drying</td>\n",
       "      <td>Feels a Little Like Sunblock, Moderate Moister...</td>\n",
       "      <td>Decent Conditioner, Nice Smell</td>\n",
       "      <td>Better Than Regular Conditioner</td>\n",
       "    </tr>\n",
       "    <tr>\n",
       "      <th>unixReviewTime</th>\n",
       "      <td>1404864000</td>\n",
       "      <td>1393545600</td>\n",
       "      <td>1347235200</td>\n",
       "      <td>1362528000</td>\n",
       "      <td>1402531200</td>\n",
       "      <td>1405296000</td>\n",
       "      <td>1329955200</td>\n",
       "      <td>1367539200</td>\n",
       "      <td>1368662400</td>\n",
       "      <td>1365552000</td>\n",
       "    </tr>\n",
       "    <tr>\n",
       "      <th>reviewTime</th>\n",
       "      <td>07 9, 2014</td>\n",
       "      <td>02 28, 2014</td>\n",
       "      <td>09 10, 2012</td>\n",
       "      <td>03 6, 2013</td>\n",
       "      <td>06 12, 2014</td>\n",
       "      <td>07 14, 2014</td>\n",
       "      <td>02 23, 2012</td>\n",
       "      <td>05 3, 2013</td>\n",
       "      <td>05 16, 2013</td>\n",
       "      <td>04 10, 2013</td>\n",
       "    </tr>\n",
       "  </tbody>\n",
       "</table>\n",
       "</div>"
      ],
      "text/plain": [
       "                                                            26639  \\\n",
       "reviewerID                                          A537XC69FAD3J   \n",
       "asin                                                   B00IIB82FS   \n",
       "reviewerName                                              L Green   \n",
       "helpful                                                    [0, 0]   \n",
       "reviewText      Product has really made a difference in the da...   \n",
       "overall                                                         5   \n",
       "summary         ... around my eyes - eyes are much brighter an...   \n",
       "unixReviewTime                                         1404864000   \n",
       "reviewTime                                             07 9, 2014   \n",
       "\n",
       "                                                            22630  \\\n",
       "reviewerID                                         A19XMHRB3G4DIR   \n",
       "asin                                                   B00GNA9K3E   \n",
       "reviewerName                                            javajunki   \n",
       "helpful                                                    [0, 0]   \n",
       "reviewText      Finding a decent brush that is affordable enou...   \n",
       "overall                                                         4   \n",
       "summary                                Nice enough and affordable   \n",
       "unixReviewTime                                         1393545600   \n",
       "reviewTime                                            02 28, 2014   \n",
       "\n",
       "                                                            7900   \\\n",
       "reviewerID                                         A1W6UPVTSV9WOO   \n",
       "asin                                                   B0061KQF2K   \n",
       "reviewerName                                                 Alli   \n",
       "helpful                                                    [0, 0]   \n",
       "reviewText      Blush is smooth and very pigmented! I'm happy ...   \n",
       "overall                                                         5   \n",
       "summary                                         Really love this!   \n",
       "unixReviewTime                                         1347235200   \n",
       "reviewTime                                            09 10, 2012   \n",
       "\n",
       "                                                            14495  \\\n",
       "reviewerID                                         A1ITRGMT80D5TK   \n",
       "asin                                                   B00A0IWTEW   \n",
       "reviewerName            ThisThatNEverything \"thisthatneverything\"   \n",
       "helpful                                                    [0, 0]   \n",
       "reviewText      We usually keep my 9-year-old sons hair buzzed...   \n",
       "overall                                                         4   \n",
       "summary                  Smells good, Works well & Easy to use...   \n",
       "unixReviewTime                                         1362528000   \n",
       "reviewTime                                             03 6, 2013   \n",
       "\n",
       "                                                            27149  \\\n",
       "reviewerID                                         A1DGB6HY5C7LXU   \n",
       "asin                                                   B00IU079YM   \n",
       "reviewerName                                       Brianna Greene   \n",
       "helpful                                                    [0, 0]   \n",
       "reviewText      I've started to use this serum and my skin is ...   \n",
       "overall                                                         5   \n",
       "summary         An Excellent Hyaluronic Acid Serum with Lilac ...   \n",
       "unixReviewTime                                         1402531200   \n",
       "reviewTime                                            06 12, 2014   \n",
       "\n",
       "                                                            20833  \\\n",
       "reviewerID                                         A1FWFCJU2G7TRA   \n",
       "asin                                                   B00EYZY68Y   \n",
       "reviewerName                                               KDMask   \n",
       "helpful                                                    [0, 0]   \n",
       "reviewText      I have fine, straight color treated hair. My u...   \n",
       "overall                                                         3   \n",
       "summary                                              Just Average   \n",
       "unixReviewTime                                         1405296000   \n",
       "reviewTime                                            07 14, 2014   \n",
       "\n",
       "                                                            6774   \\\n",
       "reviewerID                                          AIIR8E34EDKCQ   \n",
       "asin                                                   B005QZQ9JU   \n",
       "reviewerName                                           - Kasia S.   \n",
       "helpful                                                    [0, 0]   \n",
       "reviewText      I have been using this since December and I re...   \n",
       "overall                                                         4   \n",
       "summary                     Great dispenser but product is drying   \n",
       "unixReviewTime                                         1329955200   \n",
       "reviewTime                                            02 23, 2012   \n",
       "\n",
       "                                                            13269  \\\n",
       "reviewerID                                         A1EVV74UQYVKRY   \n",
       "asin                                                   B009RNUH7M   \n",
       "reviewerName                                              K. Groh   \n",
       "helpful                                                    [0, 0]   \n",
       "reviewText      When I first went to use this moisturizer on m...   \n",
       "overall                                                         4   \n",
       "summary         Feels a Little Like Sunblock, Moderate Moister...   \n",
       "unixReviewTime                                         1367539200   \n",
       "reviewTime                                             05 3, 2013   \n",
       "\n",
       "                                                            13894  \\\n",
       "reviewerID                                         A215WH6RUDUCMP   \n",
       "asin                                                   B00A0IWRU8   \n",
       "reviewerName                                Jamie Wilson \"Shilom\"   \n",
       "helpful                                                    [0, 0]   \n",
       "reviewText      I definitely prefer my normal brands, but this...   \n",
       "overall                                                         4   \n",
       "summary                            Decent Conditioner, Nice Smell   \n",
       "unixReviewTime                                         1368662400   \n",
       "reviewTime                                            05 16, 2013   \n",
       "\n",
       "                                                            15261  \n",
       "reviewerID                                          ALNFHVS3SC4FV  \n",
       "asin                                                   B00AE078YM  \n",
       "reviewerName            Darena Shopz \"darenashopzatoutlookdotcom\"  \n",
       "helpful                                                    [0, 0]  \n",
       "reviewText      Clear Scalp and Hair Beauty Therapy is a 7 day...  \n",
       "overall                                                         3  \n",
       "summary                           Better Than Regular Conditioner  \n",
       "unixReviewTime                                         1365552000  \n",
       "reviewTime                                            04 10, 2013  "
      ]
     },
     "execution_count": 5,
     "metadata": {},
     "output_type": "execute_result"
    }
   ],
   "source": [
    "# Inspect the structure of the dataframe\n",
    "df.sample(10).transpose()"
   ]
  },
  {
   "cell_type": "code",
   "execution_count": 6,
   "metadata": {},
   "outputs": [
    {
     "data": {
      "text/plain": [
       "'The Continuous Hydration in this night moisturizer certainly lives up to its name. Hours later, after a good night\\'s sleep your skin will feel soft and smooth, if not a little bit slick. I found that the t-zone was a little greasy on me, so I have switched to using it only in specifically dry areas near the eyes and cheeks.It has a nice smooth feel to it and pleasant scent, but should be used for true dryness and might actually be too much for \"average\" skin. A little goes a long way, too.I would have preferred that it be packaged in a tube, since dipping in to the jar each evening is probably a bit more prone to leaving germs behind and causing it to degrade faster. Of course, that is a personal opinion, but I consider it something to think about.If you are looking for a super moisturizer and have very dry skin, this may be perfect for you. Those looking for a nice, light night cream might find it overwhelming.'"
      ]
     },
     "execution_count": 6,
     "metadata": {},
     "output_type": "execute_result"
    }
   ],
   "source": [
    "# Inspect a sample 'reviewText'\n",
    "df['reviewText'][2772]"
   ]
  },
  {
   "cell_type": "code",
   "execution_count": 7,
   "metadata": {},
   "outputs": [
    {
     "data": {
      "text/plain": [
       "'Nighttime soother...'"
      ]
     },
     "execution_count": 7,
     "metadata": {},
     "output_type": "execute_result"
    }
   ],
   "source": [
    "# Inspect a sample 'summary'\n",
    "df['summary'][2772]"
   ]
  },
  {
   "cell_type": "code",
   "execution_count": 8,
   "metadata": {},
   "outputs": [
    {
     "name": "stdout",
     "output_type": "stream",
     "text": [
      "<class 'pandas.core.frame.DataFrame'>\n",
      "Int64Index: 28798 entries, 0 to 28797\n",
      "Data columns (total 9 columns):\n",
      "reviewerID        28798 non-null object\n",
      "asin              28798 non-null object\n",
      "reviewerName      28576 non-null object\n",
      "helpful           28798 non-null object\n",
      "reviewText        28798 non-null object\n",
      "overall           28798 non-null float64\n",
      "summary           28798 non-null object\n",
      "unixReviewTime    28798 non-null int64\n",
      "reviewTime        28798 non-null object\n",
      "dtypes: float64(1), int64(1), object(7)\n",
      "memory usage: 3.4+ MB\n"
     ]
    }
   ],
   "source": [
    "# Basic information on Dataset\n",
    "df.info()"
   ]
  },
  {
   "cell_type": "markdown",
   "metadata": {},
   "source": [
    "**Each row corresponds to a customers' review information and related variables are explained below:**\n",
    "\n",
    "reviewerID : ID of the reviewer\n",
    "\n",
    "asin : ID of the product \n",
    "\n",
    "reviewerName : name of the reviewer \n",
    "\n",
    "helpful : helpfulness of the review, e.g. 2/3 \n",
    "\n",
    "reviewText : text of the review \n",
    "\n",
    "overall : rating \n",
    "\n",
    "summary : summary of the review \n",
    "\n",
    "unixReviewTime : time of the review (unix time) \n",
    "\n",
    "reviewTime : time of the review (raw) "
   ]
  },
  {
   "cell_type": "code",
   "execution_count": 9,
   "metadata": {},
   "outputs": [
    {
     "data": {
      "text/html": [
       "<div>\n",
       "<style scoped>\n",
       "    .dataframe tbody tr th:only-of-type {\n",
       "        vertical-align: middle;\n",
       "    }\n",
       "\n",
       "    .dataframe tbody tr th {\n",
       "        vertical-align: top;\n",
       "    }\n",
       "\n",
       "    .dataframe thead th {\n",
       "        text-align: right;\n",
       "    }\n",
       "</style>\n",
       "<table border=\"1\" class=\"dataframe\">\n",
       "  <thead>\n",
       "    <tr style=\"text-align: right;\">\n",
       "      <th></th>\n",
       "      <th>overall</th>\n",
       "      <th>unixReviewTime</th>\n",
       "    </tr>\n",
       "  </thead>\n",
       "  <tbody>\n",
       "    <tr>\n",
       "      <th>count</th>\n",
       "      <td>28798.000000</td>\n",
       "      <td>2.879800e+04</td>\n",
       "    </tr>\n",
       "    <tr>\n",
       "      <th>mean</th>\n",
       "      <td>4.168137</td>\n",
       "      <td>1.362445e+09</td>\n",
       "    </tr>\n",
       "    <tr>\n",
       "      <th>std</th>\n",
       "      <td>0.993920</td>\n",
       "      <td>4.214377e+07</td>\n",
       "    </tr>\n",
       "    <tr>\n",
       "      <th>min</th>\n",
       "      <td>1.000000</td>\n",
       "      <td>1.113350e+09</td>\n",
       "    </tr>\n",
       "    <tr>\n",
       "      <th>25%</th>\n",
       "      <td>4.000000</td>\n",
       "      <td>1.351123e+09</td>\n",
       "    </tr>\n",
       "    <tr>\n",
       "      <th>50%</th>\n",
       "      <td>4.000000</td>\n",
       "      <td>1.366070e+09</td>\n",
       "    </tr>\n",
       "    <tr>\n",
       "      <th>75%</th>\n",
       "      <td>5.000000</td>\n",
       "      <td>1.395274e+09</td>\n",
       "    </tr>\n",
       "    <tr>\n",
       "      <th>max</th>\n",
       "      <td>5.000000</td>\n",
       "      <td>1.406074e+09</td>\n",
       "    </tr>\n",
       "  </tbody>\n",
       "</table>\n",
       "</div>"
      ],
      "text/plain": [
       "            overall  unixReviewTime\n",
       "count  28798.000000    2.879800e+04\n",
       "mean       4.168137    1.362445e+09\n",
       "std        0.993920    4.214377e+07\n",
       "min        1.000000    1.113350e+09\n",
       "25%        4.000000    1.351123e+09\n",
       "50%        4.000000    1.366070e+09\n",
       "75%        5.000000    1.395274e+09\n",
       "max        5.000000    1.406074e+09"
      ]
     },
     "execution_count": 9,
     "metadata": {},
     "output_type": "execute_result"
    }
   ],
   "source": [
    "# Basic Statistics of the Dataset\n",
    "df.describe()"
   ]
  },
  {
   "cell_type": "code",
   "execution_count": 10,
   "metadata": {},
   "outputs": [
    {
     "data": {
      "text/plain": [
       "0.0"
      ]
     },
     "execution_count": 10,
     "metadata": {},
     "output_type": "execute_result"
    }
   ],
   "source": [
    "# Checking weirdness on the dataset \n",
    "df['overall'][df['overall']<1].sum()"
   ]
  },
  {
   "cell_type": "code",
   "execution_count": 11,
   "metadata": {},
   "outputs": [
    {
     "data": {
      "text/plain": [
       "0.0"
      ]
     },
     "execution_count": 11,
     "metadata": {},
     "output_type": "execute_result"
    }
   ],
   "source": [
    "df['overall'][df['overall']>5].sum()"
   ]
  },
  {
   "cell_type": "markdown",
   "metadata": {},
   "source": [
    "There is no rating out of defined 1-5 range. It makes sense. Let's see how many customers give ratings for each category. "
   ]
  },
  {
   "cell_type": "code",
   "execution_count": 12,
   "metadata": {},
   "outputs": [
    {
     "data": {
      "text/plain": [
       "5.0    13766\n",
       "4.0     8808\n",
       "3.0     4110\n",
       "2.0     1528\n",
       "1.0      586\n",
       "Name: overall, dtype: int64"
      ]
     },
     "execution_count": 12,
     "metadata": {},
     "output_type": "execute_result"
    }
   ],
   "source": [
    "# Customer totals for each rating \n",
    "df['overall'].value_counts()"
   ]
  },
  {
   "cell_type": "code",
   "execution_count": 13,
   "metadata": {},
   "outputs": [
    {
     "data": {
      "image/png": "[encoded data removed]",
      "text/plain": [
       "<Figure size 720x432 with 1 Axes>"
      ]
     },
     "metadata": {},
     "output_type": "display_data"
    }
   ],
   "source": [
    "# Heatmap for missing values\n",
    "plt.figure(figsize = (10,6))\n",
    "sns.set()\n",
    "_ = sns.heatmap(df.isnull(), yticklabels = False, cbar = False, cmap = 'viridis')"
   ]
  },
  {
   "cell_type": "code",
   "execution_count": 14,
   "metadata": {},
   "outputs": [
    {
     "data": {
      "text/plain": [
       "reviewerID          0\n",
       "asin                0\n",
       "reviewerName      222\n",
       "helpful             0\n",
       "reviewText          0\n",
       "overall             0\n",
       "summary             0\n",
       "unixReviewTime      0\n",
       "reviewTime          0\n",
       "dtype: int64"
      ]
     },
     "execution_count": 14,
     "metadata": {},
     "output_type": "execute_result"
    }
   ],
   "source": [
    "# Check for missing values\n",
    "df.isnull().sum()"
   ]
  },
  {
   "cell_type": "markdown",
   "metadata": {},
   "source": [
    "**Some information about dataset so far:**\n",
    "\n",
    "This data includes 28798 rows(observations) and 9 columns(feature variables). \n",
    "\n",
    "Memory usage is 3.4+ MB. \n",
    "\n",
    "In the dataset, we have 7 object, 1 float64 and 1 int64 data types. \n",
    "\n",
    "222 'reviewerName' information is missing in the dataset. Since customer don't give their name, we should be suspicious about their reviews and ratings. I would prefer to drop the missing values from dataset  since we have enough observations to conclude a decision for sentiment analysis. \n",
    "\n",
    "We should concatenate 'reviewText' and 'summary' since both of them gives information about product, and also drop both 'reviewText' and 'summary' column at the end. \n",
    "\n",
    "'helpful' variable includes positive (thumbs up)  and negative (thumbs down) feedback for reviews' information, it will be splitted into two columns: positive feedback will be represented as \"pos_feedback\" , and negative feedback will be represented as \"neg_feedback\". Also, 'helpful' variable will be represented as an int64 type in the dataset via that step.\n",
    "\n",
    "We should classify the 'overall' (ratings) as good, neutral and bad in order to make sentiment analysis. \n",
    "\n",
    "In the dataset, 'reviewerID' and 'reviwerName' are both for identification of customer. We should drop one of them from the dataset. Preferably, I will drop 'reviewerName' since customer names are not standardized and there are lots of different sytle to represent them.\n",
    "\n",
    "'unixReviewTime' will be dropped since it has already been represented in 'reviewTime' feature in a more understandable format. Also, 'reviewTime' will be converted to datetime data type. \n",
    "\n",
    "We will rename the columns in order to improve practicality and the readibility of coding as stated below: \n",
    "\n",
    "- reviewerID : \"customer\"\n",
    "\n",
    "- asin : \"product\"\n",
    "\n",
    "- reviewerName : column will be dropped.\n",
    "\n",
    "- helpful : positive feedback will be represented as \"pos_feedback\" , neutral feedback will be represented as \"neut_feedback\" and negative feedback will be represented as \"neg_feedback\".\n",
    "\n",
    "- reviewText : This will be concatenated with \"summary\" and renamed as \"review_text\"\n",
    "\n",
    "- overall : \"rating\" \n",
    "\n",
    "- summary : it will be dropped after it is concatenated with \"reviewerText\".\n",
    "\n",
    "- unixReviewTime : column will be dropped. \n",
    "\n",
    "- reviewTime : \"time\"\n",
    "\n",
    "Now, we will practice all defined action items above. "
   ]
  },
  {
   "cell_type": "markdown",
   "metadata": {},
   "source": [
    "## Dropping Missing Values"
   ]
  },
  {
   "cell_type": "code",
   "execution_count": 15,
   "metadata": {},
   "outputs": [],
   "source": [
    "# Drop missing customers who don't give their names\n",
    "df2 = df.dropna(axis=0)"
   ]
  },
  {
   "cell_type": "code",
   "execution_count": 16,
   "metadata": {},
   "outputs": [
    {
     "data": {
      "text/plain": [
       "5.0    13683\n",
       "4.0     8742\n",
       "3.0     4067\n",
       "2.0     1508\n",
       "1.0      576\n",
       "Name: overall, dtype: int64"
      ]
     },
     "execution_count": 16,
     "metadata": {},
     "output_type": "execute_result"
    }
   ],
   "source": [
    "# Customer totals for each rating (after drop missing values)\n",
    "df2['overall'].value_counts()"
   ]
  },
  {
   "cell_type": "markdown",
   "metadata": {},
   "source": [
    "## Concatenating 'reviewText' and 'summary' columns"
   ]
  },
  {
   "cell_type": "code",
   "execution_count": 17,
   "metadata": {},
   "outputs": [
    {
     "data": {
      "text/html": [
       "<div>\n",
       "<style scoped>\n",
       "    .dataframe tbody tr th:only-of-type {\n",
       "        vertical-align: middle;\n",
       "    }\n",
       "\n",
       "    .dataframe tbody tr th {\n",
       "        vertical-align: top;\n",
       "    }\n",
       "\n",
       "    .dataframe thead th {\n",
       "        text-align: right;\n",
       "    }\n",
       "</style>\n",
       "<table border=\"1\" class=\"dataframe\">\n",
       "  <thead>\n",
       "    <tr style=\"text-align: right;\">\n",
       "      <th></th>\n",
       "      <th>reviewerID</th>\n",
       "      <th>asin</th>\n",
       "      <th>reviewerName</th>\n",
       "      <th>helpful</th>\n",
       "      <th>overall</th>\n",
       "      <th>unixReviewTime</th>\n",
       "      <th>reviewTime</th>\n",
       "      <th>review_text</th>\n",
       "    </tr>\n",
       "  </thead>\n",
       "  <tbody>\n",
       "    <tr>\n",
       "      <th>0</th>\n",
       "      <td>A6VPK7X53QNAQ</td>\n",
       "      <td>B0000CC64W</td>\n",
       "      <td>AmazonDiva \"Keep Calm and Carry On.\"</td>\n",
       "      <td>[5, 5]</td>\n",
       "      <td>5.0</td>\n",
       "      <td>1245283200</td>\n",
       "      <td>06 18, 2009</td>\n",
       "      <td>If I had to choose only one product to take ca...</td>\n",
       "    </tr>\n",
       "    <tr>\n",
       "      <th>1</th>\n",
       "      <td>A3CHMHGSJSQ02J</td>\n",
       "      <td>B0000CC64W</td>\n",
       "      <td>Anon. A. Non</td>\n",
       "      <td>[2, 2]</td>\n",
       "      <td>5.0</td>\n",
       "      <td>1358467200</td>\n",
       "      <td>01 18, 2013</td>\n",
       "      <td>Makes my skin lovely and smooth As a woman nea...</td>\n",
       "    </tr>\n",
       "    <tr>\n",
       "      <th>2</th>\n",
       "      <td>A1V1EP514B5H7Y</td>\n",
       "      <td>B0000CC64W</td>\n",
       "      <td>asiana</td>\n",
       "      <td>[0, 0]</td>\n",
       "      <td>5.0</td>\n",
       "      <td>1322524800</td>\n",
       "      <td>11 29, 2011</td>\n",
       "      <td>Works well at a reasonable price I've used thi...</td>\n",
       "    </tr>\n",
       "    <tr>\n",
       "      <th>3</th>\n",
       "      <td>A1X2LENOF84LCQ</td>\n",
       "      <td>B0000CC64W</td>\n",
       "      <td>D \"D\"</td>\n",
       "      <td>[62, 75]</td>\n",
       "      <td>4.0</td>\n",
       "      <td>1113350400</td>\n",
       "      <td>04 13, 2005</td>\n",
       "      <td>This does work ladies I have tried so many pro...</td>\n",
       "    </tr>\n",
       "    <tr>\n",
       "      <th>4</th>\n",
       "      <td>A2PATWWZAXHQYA</td>\n",
       "      <td>B0000CC64W</td>\n",
       "      <td>Farnoosh Brock</td>\n",
       "      <td>[1, 1]</td>\n",
       "      <td>1.0</td>\n",
       "      <td>1387584000</td>\n",
       "      <td>12 21, 2013</td>\n",
       "      <td>Did not like the feel/texture of this serum I ...</td>\n",
       "    </tr>\n",
       "  </tbody>\n",
       "</table>\n",
       "</div>"
      ],
      "text/plain": [
       "       reviewerID        asin                          reviewerName   helpful  \\\n",
       "0   A6VPK7X53QNAQ  B0000CC64W  AmazonDiva \"Keep Calm and Carry On.\"    [5, 5]   \n",
       "1  A3CHMHGSJSQ02J  B0000CC64W                          Anon. A. Non    [2, 2]   \n",
       "2  A1V1EP514B5H7Y  B0000CC64W                                asiana    [0, 0]   \n",
       "3  A1X2LENOF84LCQ  B0000CC64W                                 D \"D\"  [62, 75]   \n",
       "4  A2PATWWZAXHQYA  B0000CC64W                        Farnoosh Brock    [1, 1]   \n",
       "\n",
       "   overall  unixReviewTime   reviewTime  \\\n",
       "0      5.0      1245283200  06 18, 2009   \n",
       "1      5.0      1358467200  01 18, 2013   \n",
       "2      5.0      1322524800  11 29, 2011   \n",
       "3      4.0      1113350400  04 13, 2005   \n",
       "4      1.0      1387584000  12 21, 2013   \n",
       "\n",
       "                                         review_text  \n",
       "0  If I had to choose only one product to take ca...  \n",
       "1  Makes my skin lovely and smooth As a woman nea...  \n",
       "2  Works well at a reasonable price I've used thi...  \n",
       "3  This does work ladies I have tried so many pro...  \n",
       "4  Did not like the feel/texture of this serum I ...  "
      ]
     },
     "execution_count": 17,
     "metadata": {},
     "output_type": "execute_result"
    }
   ],
   "source": [
    "# Concatenate 'reviewText' and 'summary' as review_text and drop them \n",
    "df2['review_text'] = df[['summary', 'reviewText']].apply(lambda x: \" \".join(str(y) for y in x if str(y) != 'nan'), axis = 1)\n",
    "df2 = df2.drop(['reviewText', 'summary'], axis = 1)\n",
    "df2.head()"
   ]
  },
  {
   "cell_type": "markdown",
   "metadata": {},
   "source": [
    "## Spliting 'helpful' column into two separate columns"
   ]
  },
  {
   "cell_type": "code",
   "execution_count": 18,
   "metadata": {
    "scrolled": true
   },
   "outputs": [
    {
     "data": {
      "text/html": [
       "<div>\n",
       "<style scoped>\n",
       "    .dataframe tbody tr th:only-of-type {\n",
       "        vertical-align: middle;\n",
       "    }\n",
       "\n",
       "    .dataframe tbody tr th {\n",
       "        vertical-align: top;\n",
       "    }\n",
       "\n",
       "    .dataframe thead th {\n",
       "        text-align: right;\n",
       "    }\n",
       "</style>\n",
       "<table border=\"1\" class=\"dataframe\">\n",
       "  <thead>\n",
       "    <tr style=\"text-align: right;\">\n",
       "      <th></th>\n",
       "      <th>reviewerID</th>\n",
       "      <th>asin</th>\n",
       "      <th>reviewerName</th>\n",
       "      <th>overall</th>\n",
       "      <th>unixReviewTime</th>\n",
       "      <th>reviewTime</th>\n",
       "      <th>review_text</th>\n",
       "      <th>pos_feedback</th>\n",
       "      <th>neg_feedback</th>\n",
       "    </tr>\n",
       "  </thead>\n",
       "  <tbody>\n",
       "    <tr>\n",
       "      <th>0</th>\n",
       "      <td>A6VPK7X53QNAQ</td>\n",
       "      <td>B0000CC64W</td>\n",
       "      <td>AmazonDiva \"Keep Calm and Carry On.\"</td>\n",
       "      <td>5.0</td>\n",
       "      <td>1245283200</td>\n",
       "      <td>06 18, 2009</td>\n",
       "      <td>If I had to choose only one product to take ca...</td>\n",
       "      <td>5</td>\n",
       "      <td>0</td>\n",
       "    </tr>\n",
       "    <tr>\n",
       "      <th>1</th>\n",
       "      <td>A3CHMHGSJSQ02J</td>\n",
       "      <td>B0000CC64W</td>\n",
       "      <td>Anon. A. Non</td>\n",
       "      <td>5.0</td>\n",
       "      <td>1358467200</td>\n",
       "      <td>01 18, 2013</td>\n",
       "      <td>Makes my skin lovely and smooth As a woman nea...</td>\n",
       "      <td>2</td>\n",
       "      <td>0</td>\n",
       "    </tr>\n",
       "    <tr>\n",
       "      <th>2</th>\n",
       "      <td>A1V1EP514B5H7Y</td>\n",
       "      <td>B0000CC64W</td>\n",
       "      <td>asiana</td>\n",
       "      <td>5.0</td>\n",
       "      <td>1322524800</td>\n",
       "      <td>11 29, 2011</td>\n",
       "      <td>Works well at a reasonable price I've used thi...</td>\n",
       "      <td>0</td>\n",
       "      <td>0</td>\n",
       "    </tr>\n",
       "    <tr>\n",
       "      <th>3</th>\n",
       "      <td>A1X2LENOF84LCQ</td>\n",
       "      <td>B0000CC64W</td>\n",
       "      <td>D \"D\"</td>\n",
       "      <td>4.0</td>\n",
       "      <td>1113350400</td>\n",
       "      <td>04 13, 2005</td>\n",
       "      <td>This does work ladies I have tried so many pro...</td>\n",
       "      <td>62</td>\n",
       "      <td>13</td>\n",
       "    </tr>\n",
       "    <tr>\n",
       "      <th>4</th>\n",
       "      <td>A2PATWWZAXHQYA</td>\n",
       "      <td>B0000CC64W</td>\n",
       "      <td>Farnoosh Brock</td>\n",
       "      <td>1.0</td>\n",
       "      <td>1387584000</td>\n",
       "      <td>12 21, 2013</td>\n",
       "      <td>Did not like the feel/texture of this serum I ...</td>\n",
       "      <td>1</td>\n",
       "      <td>0</td>\n",
       "    </tr>\n",
       "  </tbody>\n",
       "</table>\n",
       "</div>"
      ],
      "text/plain": [
       "       reviewerID        asin                          reviewerName  overall  \\\n",
       "0   A6VPK7X53QNAQ  B0000CC64W  AmazonDiva \"Keep Calm and Carry On.\"      5.0   \n",
       "1  A3CHMHGSJSQ02J  B0000CC64W                          Anon. A. Non      5.0   \n",
       "2  A1V1EP514B5H7Y  B0000CC64W                                asiana      5.0   \n",
       "3  A1X2LENOF84LCQ  B0000CC64W                                 D \"D\"      4.0   \n",
       "4  A2PATWWZAXHQYA  B0000CC64W                        Farnoosh Brock      1.0   \n",
       "\n",
       "   unixReviewTime   reviewTime  \\\n",
       "0      1245283200  06 18, 2009   \n",
       "1      1358467200  01 18, 2013   \n",
       "2      1322524800  11 29, 2011   \n",
       "3      1113350400  04 13, 2005   \n",
       "4      1387584000  12 21, 2013   \n",
       "\n",
       "                                         review_text  pos_feedback  \\\n",
       "0  If I had to choose only one product to take ca...             5   \n",
       "1  Makes my skin lovely and smooth As a woman nea...             2   \n",
       "2  Works well at a reasonable price I've used thi...             0   \n",
       "3  This does work ladies I have tried so many pro...            62   \n",
       "4  Did not like the feel/texture of this serum I ...             1   \n",
       "\n",
       "   neg_feedback  \n",
       "0             0  \n",
       "1             0  \n",
       "2             0  \n",
       "3            13  \n",
       "4             0  "
      ]
     },
     "execution_count": 18,
     "metadata": {},
     "output_type": "execute_result"
    }
   ],
   "source": [
    "# Split 'helpful' column into 'neg_feedback' and 'pos_feedback' and drop it at the end\n",
    "\n",
    "list_positive = []\n",
    "list_negative = []\n",
    "\n",
    "for help in df2['helpful']:\n",
    "    list_positive.append(help[0])\n",
    "    list_negative.append(help[1] - help[0])\n",
    "    \n",
    "# Positive Feedback (Supporting reviewer's idea and find it useful)\n",
    "df2['pos_feedback'] = list_positive\n",
    "\n",
    "# Negative Feedback (Finding reviewer's idea useless and not supporting it)\n",
    "df2['neg_feedback'] = list_negative\n",
    "\n",
    "# Drop redundant 'helpful' column\n",
    "df2 = df2.drop('helpful', axis = 1)\n",
    "df2.head()"
   ]
  },
  {
   "cell_type": "markdown",
   "metadata": {},
   "source": [
    "## Classify the 'overall' (ratings) as good, neutral and bad"
   ]
  },
  {
   "cell_type": "code",
   "execution_count": 24,
   "metadata": {},
   "outputs": [
    {
     "name": "stdout",
     "output_type": "stream",
     "text": [
      "Good ratings : 22425 reviews for beauty products\n",
      "Neutral ratings : 4067 reviews for beauty products\n",
      "Bad ratings : 2084 reviews for beauty products\n"
     ]
    }
   ],
   "source": [
    "# Classify ratings as good\n",
    "good_rate = len(df2[df2['overall'] > 3])\n",
    "neut_rate = len(df2[df2['overall'] == 3])\n",
    "bad_rate = len(df2[df2['overall'] < 3])\n",
    "\n",
    "# Printing rates and their total numbers\n",
    "print ('Good ratings : {} reviews for beauty products'.format(good_rate))\n",
    "print ('Neutral ratings : {} reviews for beauty products'.format(neut_rate))\n",
    "print ('Bad ratings : {} reviews for beauty products'.format(bad_rate))"
   ]
  },
  {
   "cell_type": "code",
   "execution_count": 25,
   "metadata": {},
   "outputs": [
    {
     "data": {
      "text/html": [
       "<div>\n",
       "<style scoped>\n",
       "    .dataframe tbody tr th:only-of-type {\n",
       "        vertical-align: middle;\n",
       "    }\n",
       "\n",
       "    .dataframe tbody tr th {\n",
       "        vertical-align: top;\n",
       "    }\n",
       "\n",
       "    .dataframe thead th {\n",
       "        text-align: right;\n",
       "    }\n",
       "</style>\n",
       "<table border=\"1\" class=\"dataframe\">\n",
       "  <thead>\n",
       "    <tr style=\"text-align: right;\">\n",
       "      <th></th>\n",
       "      <th>reviewerID</th>\n",
       "      <th>asin</th>\n",
       "      <th>reviewerName</th>\n",
       "      <th>overall</th>\n",
       "      <th>unixReviewTime</th>\n",
       "      <th>reviewTime</th>\n",
       "      <th>review_text</th>\n",
       "      <th>pos_feedback</th>\n",
       "      <th>neg_feedback</th>\n",
       "      <th>rating_class</th>\n",
       "    </tr>\n",
       "  </thead>\n",
       "  <tbody>\n",
       "    <tr>\n",
       "      <th>0</th>\n",
       "      <td>A6VPK7X53QNAQ</td>\n",
       "      <td>B0000CC64W</td>\n",
       "      <td>AmazonDiva \"Keep Calm and Carry On.\"</td>\n",
       "      <td>5.0</td>\n",
       "      <td>1245283200</td>\n",
       "      <td>06 18, 2009</td>\n",
       "      <td>If I had to choose only one product to take ca...</td>\n",
       "      <td>5</td>\n",
       "      <td>0</td>\n",
       "      <td>good</td>\n",
       "    </tr>\n",
       "    <tr>\n",
       "      <th>1</th>\n",
       "      <td>A3CHMHGSJSQ02J</td>\n",
       "      <td>B0000CC64W</td>\n",
       "      <td>Anon. A. Non</td>\n",
       "      <td>5.0</td>\n",
       "      <td>1358467200</td>\n",
       "      <td>01 18, 2013</td>\n",
       "      <td>Makes my skin lovely and smooth As a woman nea...</td>\n",
       "      <td>2</td>\n",
       "      <td>0</td>\n",
       "      <td>good</td>\n",
       "    </tr>\n",
       "    <tr>\n",
       "      <th>2</th>\n",
       "      <td>A1V1EP514B5H7Y</td>\n",
       "      <td>B0000CC64W</td>\n",
       "      <td>asiana</td>\n",
       "      <td>5.0</td>\n",
       "      <td>1322524800</td>\n",
       "      <td>11 29, 2011</td>\n",
       "      <td>Works well at a reasonable price I've used thi...</td>\n",
       "      <td>0</td>\n",
       "      <td>0</td>\n",
       "      <td>good</td>\n",
       "    </tr>\n",
       "    <tr>\n",
       "      <th>3</th>\n",
       "      <td>A1X2LENOF84LCQ</td>\n",
       "      <td>B0000CC64W</td>\n",
       "      <td>D \"D\"</td>\n",
       "      <td>4.0</td>\n",
       "      <td>1113350400</td>\n",
       "      <td>04 13, 2005</td>\n",
       "      <td>This does work ladies I have tried so many pro...</td>\n",
       "      <td>62</td>\n",
       "      <td>13</td>\n",
       "      <td>good</td>\n",
       "    </tr>\n",
       "    <tr>\n",
       "      <th>4</th>\n",
       "      <td>A2PATWWZAXHQYA</td>\n",
       "      <td>B0000CC64W</td>\n",
       "      <td>Farnoosh Brock</td>\n",
       "      <td>1.0</td>\n",
       "      <td>1387584000</td>\n",
       "      <td>12 21, 2013</td>\n",
       "      <td>Did not like the feel/texture of this serum I ...</td>\n",
       "      <td>1</td>\n",
       "      <td>0</td>\n",
       "      <td>bad</td>\n",
       "    </tr>\n",
       "  </tbody>\n",
       "</table>\n",
       "</div>"
      ],
      "text/plain": [
       "       reviewerID        asin                          reviewerName  overall  \\\n",
       "0   A6VPK7X53QNAQ  B0000CC64W  AmazonDiva \"Keep Calm and Carry On.\"      5.0   \n",
       "1  A3CHMHGSJSQ02J  B0000CC64W                          Anon. A. Non      5.0   \n",
       "2  A1V1EP514B5H7Y  B0000CC64W                                asiana      5.0   \n",
       "3  A1X2LENOF84LCQ  B0000CC64W                                 D \"D\"      4.0   \n",
       "4  A2PATWWZAXHQYA  B0000CC64W                        Farnoosh Brock      1.0   \n",
       "\n",
       "   unixReviewTime   reviewTime  \\\n",
       "0      1245283200  06 18, 2009   \n",
       "1      1358467200  01 18, 2013   \n",
       "2      1322524800  11 29, 2011   \n",
       "3      1113350400  04 13, 2005   \n",
       "4      1387584000  12 21, 2013   \n",
       "\n",
       "                                         review_text  pos_feedback  \\\n",
       "0  If I had to choose only one product to take ca...             5   \n",
       "1  Makes my skin lovely and smooth As a woman nea...             2   \n",
       "2  Works well at a reasonable price I've used thi...             0   \n",
       "3  This does work ladies I have tried so many pro...            62   \n",
       "4  Did not like the feel/texture of this serum I ...             1   \n",
       "\n",
       "   neg_feedback rating_class  \n",
       "0             0         good  \n",
       "1             0         good  \n",
       "2             0         good  \n",
       "3            13         good  \n",
       "4             0          bad  "
      ]
     },
     "execution_count": 25,
     "metadata": {},
     "output_type": "execute_result"
    }
   ],
   "source": [
    "# Apply the new classification to the ratings column\n",
    "df2['rating_class'] = df2['overall'].apply(lambda x: 'bad' if x < 3 else('good' if x > 3 else 'neutral'))\n",
    "df2.head()"
   ]
  },
  {
   "cell_type": "markdown",
   "metadata": {},
   "source": [
    "We have a new column named as 'rating_class' consists of three classes such as 'good, neutral and bad' after applying the new classification. "
   ]
  },
  {
   "cell_type": "markdown",
   "metadata": {},
   "source": [
    "## Dropping duplicate columns about customer ('reviwerName') and time ('unixReviewTime)"
   ]
  },
  {
   "cell_type": "code",
   "execution_count": 26,
   "metadata": {},
   "outputs": [
    {
     "data": {
      "text/html": [
       "<div>\n",
       "<style scoped>\n",
       "    .dataframe tbody tr th:only-of-type {\n",
       "        vertical-align: middle;\n",
       "    }\n",
       "\n",
       "    .dataframe tbody tr th {\n",
       "        vertical-align: top;\n",
       "    }\n",
       "\n",
       "    .dataframe thead th {\n",
       "        text-align: right;\n",
       "    }\n",
       "</style>\n",
       "<table border=\"1\" class=\"dataframe\">\n",
       "  <thead>\n",
       "    <tr style=\"text-align: right;\">\n",
       "      <th></th>\n",
       "      <th>reviewerID</th>\n",
       "      <th>asin</th>\n",
       "      <th>overall</th>\n",
       "      <th>reviewTime</th>\n",
       "      <th>review_text</th>\n",
       "      <th>pos_feedback</th>\n",
       "      <th>neg_feedback</th>\n",
       "      <th>rating_class</th>\n",
       "    </tr>\n",
       "  </thead>\n",
       "  <tbody>\n",
       "    <tr>\n",
       "      <th>0</th>\n",
       "      <td>A6VPK7X53QNAQ</td>\n",
       "      <td>B0000CC64W</td>\n",
       "      <td>5.0</td>\n",
       "      <td>06 18, 2009</td>\n",
       "      <td>If I had to choose only one product to take ca...</td>\n",
       "      <td>5</td>\n",
       "      <td>0</td>\n",
       "      <td>good</td>\n",
       "    </tr>\n",
       "    <tr>\n",
       "      <th>1</th>\n",
       "      <td>A3CHMHGSJSQ02J</td>\n",
       "      <td>B0000CC64W</td>\n",
       "      <td>5.0</td>\n",
       "      <td>01 18, 2013</td>\n",
       "      <td>Makes my skin lovely and smooth As a woman nea...</td>\n",
       "      <td>2</td>\n",
       "      <td>0</td>\n",
       "      <td>good</td>\n",
       "    </tr>\n",
       "    <tr>\n",
       "      <th>2</th>\n",
       "      <td>A1V1EP514B5H7Y</td>\n",
       "      <td>B0000CC64W</td>\n",
       "      <td>5.0</td>\n",
       "      <td>11 29, 2011</td>\n",
       "      <td>Works well at a reasonable price I've used thi...</td>\n",
       "      <td>0</td>\n",
       "      <td>0</td>\n",
       "      <td>good</td>\n",
       "    </tr>\n",
       "    <tr>\n",
       "      <th>3</th>\n",
       "      <td>A1X2LENOF84LCQ</td>\n",
       "      <td>B0000CC64W</td>\n",
       "      <td>4.0</td>\n",
       "      <td>04 13, 2005</td>\n",
       "      <td>This does work ladies I have tried so many pro...</td>\n",
       "      <td>62</td>\n",
       "      <td>13</td>\n",
       "      <td>good</td>\n",
       "    </tr>\n",
       "    <tr>\n",
       "      <th>4</th>\n",
       "      <td>A2PATWWZAXHQYA</td>\n",
       "      <td>B0000CC64W</td>\n",
       "      <td>1.0</td>\n",
       "      <td>12 21, 2013</td>\n",
       "      <td>Did not like the feel/texture of this serum I ...</td>\n",
       "      <td>1</td>\n",
       "      <td>0</td>\n",
       "      <td>bad</td>\n",
       "    </tr>\n",
       "  </tbody>\n",
       "</table>\n",
       "</div>"
      ],
      "text/plain": [
       "       reviewerID        asin  overall   reviewTime  \\\n",
       "0   A6VPK7X53QNAQ  B0000CC64W      5.0  06 18, 2009   \n",
       "1  A3CHMHGSJSQ02J  B0000CC64W      5.0  01 18, 2013   \n",
       "2  A1V1EP514B5H7Y  B0000CC64W      5.0  11 29, 2011   \n",
       "3  A1X2LENOF84LCQ  B0000CC64W      4.0  04 13, 2005   \n",
       "4  A2PATWWZAXHQYA  B0000CC64W      1.0  12 21, 2013   \n",
       "\n",
       "                                         review_text  pos_feedback  \\\n",
       "0  If I had to choose only one product to take ca...             5   \n",
       "1  Makes my skin lovely and smooth As a woman nea...             2   \n",
       "2  Works well at a reasonable price I've used thi...             0   \n",
       "3  This does work ladies I have tried so many pro...            62   \n",
       "4  Did not like the feel/texture of this serum I ...             1   \n",
       "\n",
       "   neg_feedback rating_class  \n",
       "0             0         good  \n",
       "1             0         good  \n",
       "2             0         good  \n",
       "3            13         good  \n",
       "4             0          bad  "
      ]
     },
     "execution_count": 26,
     "metadata": {},
     "output_type": "execute_result"
    }
   ],
   "source": [
    "# Drop 'reviewName' and 'unixReviewTime'columns\n",
    "df2 = df2.drop(['reviewerName', 'unixReviewTime'], axis = 1)\n",
    "df2.head()"
   ]
  },
  {
   "cell_type": "markdown",
   "metadata": {},
   "source": [
    "## Arranging Time column"
   ]
  },
  {
   "cell_type": "code",
   "execution_count": 31,
   "metadata": {
    "scrolled": true
   },
   "outputs": [
    {
     "data": {
      "text/html": [
       "<div>\n",
       "<style scoped>\n",
       "    .dataframe tbody tr th:only-of-type {\n",
       "        vertical-align: middle;\n",
       "    }\n",
       "\n",
       "    .dataframe tbody tr th {\n",
       "        vertical-align: top;\n",
       "    }\n",
       "\n",
       "    .dataframe thead th {\n",
       "        text-align: right;\n",
       "    }\n",
       "</style>\n",
       "<table border=\"1\" class=\"dataframe\">\n",
       "  <thead>\n",
       "    <tr style=\"text-align: right;\">\n",
       "      <th></th>\n",
       "      <th>reviewerID</th>\n",
       "      <th>asin</th>\n",
       "      <th>overall</th>\n",
       "      <th>review_text</th>\n",
       "      <th>pos_feedback</th>\n",
       "      <th>neg_feedback</th>\n",
       "      <th>rating_class</th>\n",
       "      <th>time</th>\n",
       "    </tr>\n",
       "  </thead>\n",
       "  <tbody>\n",
       "    <tr>\n",
       "      <th>0</th>\n",
       "      <td>A6VPK7X53QNAQ</td>\n",
       "      <td>B0000CC64W</td>\n",
       "      <td>5.0</td>\n",
       "      <td>If I had to choose only one product to take ca...</td>\n",
       "      <td>5</td>\n",
       "      <td>0</td>\n",
       "      <td>good</td>\n",
       "      <td>2009-06-18</td>\n",
       "    </tr>\n",
       "    <tr>\n",
       "      <th>1</th>\n",
       "      <td>A3CHMHGSJSQ02J</td>\n",
       "      <td>B0000CC64W</td>\n",
       "      <td>5.0</td>\n",
       "      <td>Makes my skin lovely and smooth As a woman nea...</td>\n",
       "      <td>2</td>\n",
       "      <td>0</td>\n",
       "      <td>good</td>\n",
       "      <td>2013-01-18</td>\n",
       "    </tr>\n",
       "    <tr>\n",
       "      <th>2</th>\n",
       "      <td>A1V1EP514B5H7Y</td>\n",
       "      <td>B0000CC64W</td>\n",
       "      <td>5.0</td>\n",
       "      <td>Works well at a reasonable price I've used thi...</td>\n",
       "      <td>0</td>\n",
       "      <td>0</td>\n",
       "      <td>good</td>\n",
       "      <td>2011-11-29</td>\n",
       "    </tr>\n",
       "    <tr>\n",
       "      <th>3</th>\n",
       "      <td>A1X2LENOF84LCQ</td>\n",
       "      <td>B0000CC64W</td>\n",
       "      <td>4.0</td>\n",
       "      <td>This does work ladies I have tried so many pro...</td>\n",
       "      <td>62</td>\n",
       "      <td>13</td>\n",
       "      <td>good</td>\n",
       "      <td>2005-04-13</td>\n",
       "    </tr>\n",
       "    <tr>\n",
       "      <th>4</th>\n",
       "      <td>A2PATWWZAXHQYA</td>\n",
       "      <td>B0000CC64W</td>\n",
       "      <td>1.0</td>\n",
       "      <td>Did not like the feel/texture of this serum I ...</td>\n",
       "      <td>1</td>\n",
       "      <td>0</td>\n",
       "      <td>bad</td>\n",
       "      <td>2013-12-21</td>\n",
       "    </tr>\n",
       "  </tbody>\n",
       "</table>\n",
       "</div>"
      ],
      "text/plain": [
       "       reviewerID        asin  overall  \\\n",
       "0   A6VPK7X53QNAQ  B0000CC64W      5.0   \n",
       "1  A3CHMHGSJSQ02J  B0000CC64W      5.0   \n",
       "2  A1V1EP514B5H7Y  B0000CC64W      5.0   \n",
       "3  A1X2LENOF84LCQ  B0000CC64W      4.0   \n",
       "4  A2PATWWZAXHQYA  B0000CC64W      1.0   \n",
       "\n",
       "                                         review_text  pos_feedback  \\\n",
       "0  If I had to choose only one product to take ca...             5   \n",
       "1  Makes my skin lovely and smooth As a woman nea...             2   \n",
       "2  Works well at a reasonable price I've used thi...             0   \n",
       "3  This does work ladies I have tried so many pro...            62   \n",
       "4  Did not like the feel/texture of this serum I ...             1   \n",
       "\n",
       "   neg_feedback rating_class       time  \n",
       "0             0         good 2009-06-18  \n",
       "1             0         good 2013-01-18  \n",
       "2             0         good 2011-11-29  \n",
       "3            13         good 2005-04-13  \n",
       "4             0          bad 2013-12-21  "
      ]
     },
     "execution_count": 31,
     "metadata": {},
     "output_type": "execute_result"
    }
   ],
   "source": [
    "# Convert time object to datetime and create a new column named 'time'\n",
    "df2['time'] = df2.reviewTime.str.replace(',', \"\")\n",
    "df2['time'] = pd.to_datetime(df2['time'], format = '%m %d %Y')\n",
    "\n",
    "# Drop redundant 'reviewTime' column\n",
    "df2 = df2.drop('reviewTime', axis = 1)\n",
    "df2.head()"
   ]
  },
  {
   "cell_type": "code",
   "execution_count": 32,
   "metadata": {},
   "outputs": [
    {
     "data": {
      "text/plain": [
       "pandas._libs.tslibs.timestamps.Timestamp"
      ]
     },
     "execution_count": 32,
     "metadata": {},
     "output_type": "execute_result"
    }
   ],
   "source": [
    "# Check the 'time' data type with a sample observation\n",
    "type(df2.time[110])"
   ]
  },
  {
   "cell_type": "markdown",
   "metadata": {},
   "source": [
    "## Rename column names"
   ]
  },
  {
   "cell_type": "code",
   "execution_count": 40,
   "metadata": {},
   "outputs": [
    {
     "data": {
      "text/html": [
       "<div>\n",
       "<style scoped>\n",
       "    .dataframe tbody tr th:only-of-type {\n",
       "        vertical-align: middle;\n",
       "    }\n",
       "\n",
       "    .dataframe tbody tr th {\n",
       "        vertical-align: top;\n",
       "    }\n",
       "\n",
       "    .dataframe thead th {\n",
       "        text-align: right;\n",
       "    }\n",
       "</style>\n",
       "<table border=\"1\" class=\"dataframe\">\n",
       "  <thead>\n",
       "    <tr style=\"text-align: right;\">\n",
       "      <th></th>\n",
       "      <th>customer</th>\n",
       "      <th>product</th>\n",
       "      <th>rating</th>\n",
       "      <th>review_text</th>\n",
       "      <th>pos_feedback</th>\n",
       "      <th>neg_feedback</th>\n",
       "      <th>rating_class</th>\n",
       "      <th>time</th>\n",
       "    </tr>\n",
       "  </thead>\n",
       "  <tbody>\n",
       "    <tr>\n",
       "      <th>1610</th>\n",
       "      <td>ACYR6O588USK</td>\n",
       "      <td>B001E7BEEE</td>\n",
       "      <td>5.0</td>\n",
       "      <td>Whipped Cream Dry Hand Repair Balm Reading the...</td>\n",
       "      <td>5</td>\n",
       "      <td>0</td>\n",
       "      <td>good</td>\n",
       "      <td>2008-09-25</td>\n",
       "    </tr>\n",
       "  </tbody>\n",
       "</table>\n",
       "</div>"
      ],
      "text/plain": [
       "          customer     product  rating  \\\n",
       "1610  ACYR6O588USK  B001E7BEEE     5.0   \n",
       "\n",
       "                                            review_text  pos_feedback  \\\n",
       "1610  Whipped Cream Dry Hand Repair Balm Reading the...             5   \n",
       "\n",
       "      neg_feedback rating_class       time  \n",
       "1610             0         good 2008-09-25  "
      ]
     },
     "execution_count": 40,
     "metadata": {},
     "output_type": "execute_result"
    }
   ],
   "source": [
    "# Rename the columns\n",
    "df2.columns = ['customer', 'product', 'rating', 'review_text', 'pos_feedback', 'neg_feedback', 'rating_class', 'time']\n",
    "\n",
    "# Sample observation\n",
    "df2.sample()"
   ]
  },
  {
   "cell_type": "markdown",
   "metadata": {},
   "source": [
    "## Descriptive Statistics "
   ]
  },
  {
   "cell_type": "code",
   "execution_count": 43,
   "metadata": {},
   "outputs": [
    {
     "data": {
      "text/html": [
       "<div>\n",
       "<style scoped>\n",
       "    .dataframe tbody tr th:only-of-type {\n",
       "        vertical-align: middle;\n",
       "    }\n",
       "\n",
       "    .dataframe tbody tr th {\n",
       "        vertical-align: top;\n",
       "    }\n",
       "\n",
       "    .dataframe thead th {\n",
       "        text-align: right;\n",
       "    }\n",
       "</style>\n",
       "<table border=\"1\" class=\"dataframe\">\n",
       "  <thead>\n",
       "    <tr style=\"text-align: right;\">\n",
       "      <th></th>\n",
       "      <th>rating</th>\n",
       "      <th>pos_feedback</th>\n",
       "      <th>neg_feedback</th>\n",
       "    </tr>\n",
       "  </thead>\n",
       "  <tbody>\n",
       "    <tr>\n",
       "      <th>count</th>\n",
       "      <td>28576.000000</td>\n",
       "      <td>28576.000000</td>\n",
       "      <td>28576.000000</td>\n",
       "    </tr>\n",
       "    <tr>\n",
       "      <th>mean</th>\n",
       "      <td>4.170493</td>\n",
       "      <td>0.948488</td>\n",
       "      <td>0.324888</td>\n",
       "    </tr>\n",
       "    <tr>\n",
       "      <th>std</th>\n",
       "      <td>0.992277</td>\n",
       "      <td>6.829651</td>\n",
       "      <td>1.105870</td>\n",
       "    </tr>\n",
       "    <tr>\n",
       "      <th>min</th>\n",
       "      <td>1.000000</td>\n",
       "      <td>0.000000</td>\n",
       "      <td>0.000000</td>\n",
       "    </tr>\n",
       "    <tr>\n",
       "      <th>25%</th>\n",
       "      <td>4.000000</td>\n",
       "      <td>0.000000</td>\n",
       "      <td>0.000000</td>\n",
       "    </tr>\n",
       "    <tr>\n",
       "      <th>50%</th>\n",
       "      <td>4.000000</td>\n",
       "      <td>0.000000</td>\n",
       "      <td>0.000000</td>\n",
       "    </tr>\n",
       "    <tr>\n",
       "      <th>75%</th>\n",
       "      <td>5.000000</td>\n",
       "      <td>1.000000</td>\n",
       "      <td>0.000000</td>\n",
       "    </tr>\n",
       "    <tr>\n",
       "      <th>max</th>\n",
       "      <td>5.000000</td>\n",
       "      <td>549.000000</td>\n",
       "      <td>52.000000</td>\n",
       "    </tr>\n",
       "  </tbody>\n",
       "</table>\n",
       "</div>"
      ],
      "text/plain": [
       "             rating  pos_feedback  neg_feedback\n",
       "count  28576.000000  28576.000000  28576.000000\n",
       "mean       4.170493      0.948488      0.324888\n",
       "std        0.992277      6.829651      1.105870\n",
       "min        1.000000      0.000000      0.000000\n",
       "25%        4.000000      0.000000      0.000000\n",
       "50%        4.000000      0.000000      0.000000\n",
       "75%        5.000000      1.000000      0.000000\n",
       "max        5.000000    549.000000     52.000000"
      ]
     },
     "execution_count": 43,
     "metadata": {},
     "output_type": "execute_result"
    }
   ],
   "source": [
    "# Read statistic summary of numeric variables\n",
    "df2.describe()"
   ]
  },
  {
   "cell_type": "code",
   "execution_count": 46,
   "metadata": {},
   "outputs": [
    {
     "data": {
      "text/plain": [
       "5.0    13683\n",
       "4.0     8742\n",
       "3.0     4067\n",
       "2.0     1508\n",
       "1.0      576\n",
       "Name: rating, dtype: int64"
      ]
     },
     "execution_count": 46,
     "metadata": {},
     "output_type": "execute_result"
    }
   ],
   "source": [
    "# Customer totals for each rating \n",
    "df2['rating'].value_counts()"
   ]
  },
  {
   "cell_type": "code",
   "execution_count": 47,
   "metadata": {},
   "outputs": [
    {
     "data": {
      "text/plain": [
       "good       22425\n",
       "neutral     4067\n",
       "bad         2084\n",
       "Name: rating_class, dtype: int64"
      ]
     },
     "execution_count": 47,
     "metadata": {},
     "output_type": "execute_result"
    }
   ],
   "source": [
    "# Customer totals for each rating class\n",
    "df2['rating_class'].value_counts()"
   ]
  },
  {
   "cell_type": "code",
   "execution_count": 91,
   "metadata": {},
   "outputs": [
    {
     "name": "stdout",
     "output_type": "stream",
     "text": [
      "Number of positive feedbacks: 8397\n",
      "\n",
      "Number of negative feedbacks: 6078\n",
      "\n",
      "Number of no helpful feedbacks: 14101\n"
     ]
    }
   ],
   "source": [
    "# Print the number of positive feedback\n",
    "pos = len(df2[df2['pos_feedback'] > 0])\n",
    "print('Number of positive feedbacks: {}'.format(pos))\n",
    "\n",
    "# Print the number of negative feedback\n",
    "neg = len(df2[df2['neg_feedback'] > 0])      \n",
    "print('\\nNumber of negative feedbacks: {}'.format(neg))\n",
    "\n",
    "# Print the number of no 'helpful' feedback \n",
    "total = len(df2)\n",
    "print('\\nNumber of no helpful feedbacks: {}'.format(total - (pos + neg)))"
   ]
  },
  {
   "cell_type": "code",
   "execution_count": 90,
   "metadata": {},
   "outputs": [
    {
     "name": "stdout",
     "output_type": "stream",
     "text": [
      "\n",
      "Number of unique customers : 1340\n",
      "\n",
      "Number of unique products : 733\n",
      "\n",
      "Review per customer: 21.32537313432836\n",
      "\n",
      "Review per product: 38.9849931787176\n"
     ]
    }
   ],
   "source": [
    "# Statistics of non-numeric variables\n",
    "\n",
    "# Number of unique customers\n",
    "print('\\nNumber of unique customers : {}'.format(len(df2['customer'].unique())))\n",
    "      \n",
    "# Number of unique products\n",
    "print('\\nNumber of unique products : {}'.format(len(df2['product'].unique())))\n",
    "      \n",
    "# Review number per unique customer\n",
    "print('\\nReview per customer: {}'.format((len(df2)/len(df2['customer'].unique()))))      \n",
    "\n",
    "# Review number per unique product \n",
    "print('\\nReview per product: {}'.format((len(df2)/len(df2['product'].unique()))))     "
   ]
  },
  {
   "cell_type": "markdown",
   "metadata": {},
   "source": [
    "**Descriptive Statistic Summary:**\n",
    "\n",
    "**- Rating Status:**\n",
    "\n",
    "28576 customer gives ratings and mean of the ratings is 4.17, which means that customers prefer to give high ratings for products. Standard deviation and percentiles also show that 1 and 2 ratings for products are rare. To be able to predict the ratings reasonably, we classified them as 'good', 'neutral', and 'bad' above. \n",
    "\n",
    "According to the statistics on rating stars:\n",
    "\n",
    "576 customers give 1 star \n",
    "\n",
    "1508 customers give 2 stars\n",
    "\n",
    "4067 customers give 3 stars\n",
    "\n",
    "8742  customers give 4 stars\n",
    "\n",
    "13683 customers give 5 stars\n",
    "\n",
    "\n",
    "On the other hand, if we look for the rating class, the picture is look like below.\n",
    "\n",
    "2084 customers give bad ratings\n",
    "\n",
    "4067 customers give neutral ratings\n",
    "\n",
    "22425 customers give good ratings\n",
    "\n",
    "**- Feedback Status**\n",
    "\n",
    "8397 customers find the given reviews logical and totally agree with them. They give positive feedbacks. The mean 0.9 and standard deviation is 6.8 whereas the highest positive feedback number for reviews is 549. That shows we may have some outliers in the dataset. \n",
    "\n",
    "6078 customers find the given reviews useless and don't aggree with the them. They give negative feedbacks. The mean 0.3 and standard deviation is 1.1 whereas the highest negative feedback number for reviews is 52.\n",
    "\n",
    "On the other hand 14101 customers don't give either positive or negative feedbacks for reviews. \n",
    "\n",
    "**- Non-numeric variables statistics:**\n",
    "\n",
    "We have 1340 unique customers and 733 products in this dataset. Each customers averagely give 21 reviews for products and on the other hand, there is averagely 40 reviews for each product in the website. \n",
    "\n",
    "On exploratory data analysis, we will check if there is a case for outliers by visualizing data. "
   ]
  },
  {
   "cell_type": "markdown",
   "metadata": {},
   "source": [
    "## Cleaning the new_text"
   ]
  },
  {
   "cell_type": "code",
   "execution_count": null,
   "metadata": {},
   "outputs": [],
   "source": []
  },
  {
   "cell_type": "code",
   "execution_count": null,
   "metadata": {},
   "outputs": [],
   "source": []
  },
  {
   "cell_type": "code",
   "execution_count": null,
   "metadata": {},
   "outputs": [],
   "source": []
  },
  {
   "cell_type": "code",
   "execution_count": null,
   "metadata": {},
   "outputs": [],
   "source": []
  },
  {
   "cell_type": "code",
   "execution_count": null,
   "metadata": {},
   "outputs": [],
   "source": []
  },
  {
   "cell_type": "code",
   "execution_count": null,
   "metadata": {},
   "outputs": [],
   "source": []
  },
  {
   "cell_type": "code",
   "execution_count": null,
   "metadata": {},
   "outputs": [],
   "source": []
  },
  {
   "cell_type": "code",
   "execution_count": null,
   "metadata": {},
   "outputs": [],
   "source": []
  },
  {
   "cell_type": "code",
   "execution_count": null,
   "metadata": {},
   "outputs": [],
   "source": []
  },
  {
   "cell_type": "code",
   "execution_count": null,
   "metadata": {},
   "outputs": [],
   "source": []
  },
  {
   "cell_type": "code",
   "execution_count": null,
   "metadata": {},
   "outputs": [],
   "source": []
  },
  {
   "cell_type": "code",
   "execution_count": null,
   "metadata": {},
   "outputs": [],
   "source": []
  },
  {
   "cell_type": "code",
   "execution_count": null,
   "metadata": {},
   "outputs": [],
   "source": []
  }
 ],
 "metadata": {
  "kernelspec": {
   "display_name": "Python 3",
   "language": "python",
   "name": "python3"
  },
  "language_info": {
   "codemirror_mode": {
    "name": "ipython",
    "version": 3
   },
   "file_extension": ".py",
   "mimetype": "text/x-python",
   "name": "python",
   "nbconvert_exporter": "python",
   "pygments_lexer": "ipython3",
   "version": "3.6.5"
  }
 },
 "nbformat": 4,
 "nbformat_minor": 2
}
